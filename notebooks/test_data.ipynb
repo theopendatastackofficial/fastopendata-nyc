{
 "cells": [
  {
   "cell_type": "code",
   "execution_count": null,
   "metadata": {},
   "outputs": [],
   "source": [
    "import sys\n",
    "import os\n",
    "\n",
    "# Get the root directory by moving up one level from \"notebooks/\"\n",
    "root_dir = os.path.abspath(os.path.join(os.getcwd(), \"..\"))\n",
    "\n",
    "# Add root directory to sys.path\n",
    "sys.path.append(root_dir)\n",
    "\n",
    "# Now you can import using the module path\n",
    "from pipeline.utils.duckdb_wrapper import DuckDBWrapper\n"
   ]
  },
  {
   "cell_type": "code",
   "execution_count": null,
   "metadata": {},
   "outputs": [],
   "source": [
    "# Initialize the DuckDBWrapper (in-memory DuckDB instance) You can connect directly to a DuckDB file by adding the path like con = DuckDBWrapper()\n",
    "con = DuckDBWrapper()"
   ]
  },
  {
   "cell_type": "code",
   "execution_count": null,
   "metadata": {},
   "outputs": [],
   "source": [
    "\n",
    "partitioned_table_names = [\n",
    "    \"nyc_threeoneone_requests\",\n",
    "    \"mta_subway_origin_destination_2023\",\n",
    "    \"mta_subway_origin_destination_2024\",\n",
    "    \"mta_subway_hourly_ridership\"\n",
    "]\n",
    "\n",
    "# Suppose your directory structure is something like:\n",
    "repo_root = Path.cwd().resolve().parents[0]  # Adjust to locate the repo root\n",
    "base_path = \"data/opendata\"\n",
    "\n",
    "con.bulk_register_partitioned_data(\n",
    "    repo_root=repo_root,\n",
    "    base_path=base_path,\n",
    "    table_names=partitioned_table_names,\n",
    "    wildcard=\"year=*/month=*/*.parquet\",\n",
    "    show_tables=True\n",
    ")\n"
   ]
  },
  {
   "cell_type": "code",
   "execution_count": null,
   "metadata": {},
   "outputs": [],
   "source": [
    "query = f\"\"\"\n",
    "\n",
    "SELECT \n",
    "count(*) as rows, \n",
    "MIN(created_date) as min,\n",
    "MAX(created_date) as max\n",
    "from \n",
    "nyc_threeoneone_requests\n",
    "\"\"\"\n",
    "\n",
    "result = con.run_query(query)\n",
    "\n",
    "print(result)\n"
   ]
  },
  {
   "cell_type": "code",
   "execution_count": null,
   "metadata": {},
   "outputs": [],
   "source": [
    "#If you want a better looking table, set show_results=True. I'd recomend capping the limit at about 50 rows\n",
    "#T\n",
    "\n",
    "query = f\"\"\"\n",
    "SELECT \n",
    " * from \n",
    "mta_subway_hourly_ridership limit 10\n",
    "\"\"\"\n",
    "\n",
    "result = con.run_query(query,show_results=True)\n"
   ]
  },
  {
   "cell_type": "code",
   "execution_count": null,
   "metadata": {},
   "outputs": [],
   "source": [
    "# Show the tables registered\n",
    "con.show_tables()\n"
   ]
  },
  {
   "cell_type": "code",
   "execution_count": null,
   "metadata": {},
   "outputs": [],
   "source": [
    "# Show the schema of a specific table\n",
    "con.show_schema(\"mta_subway_hourly_ridership\")"
   ]
  },
  {
   "cell_type": "code",
   "execution_count": null,
   "metadata": {},
   "outputs": [],
   "source": [
    "repo_root = Path.cwd().resolve().parents[0]  # Adjust to locate the repo root\n",
    "base_path = repo_root / \"data/exports\"\n",
    "file_name = \"mta_subway_hourly_ridership_data_sample\"\n",
    "file_type= \"csv\"\n",
    "# Export the query result to CSV\n",
    "con.export(result, file_type=file_type, base_path=base_path, file_name=file_name)"
   ]
  }
 ],
 "metadata": {
  "kernelspec": {
   "display_name": ".venv",
   "language": "python",
   "name": "python3"
  },
  "language_info": {
   "codemirror_mode": {
    "name": "ipython",
    "version": 3
   },
   "file_extension": ".py",
   "mimetype": "text/x-python",
   "name": "python",
   "nbconvert_exporter": "python",
   "pygments_lexer": "ipython3",
   "version": "3.10.16"
  }
 },
 "nbformat": 4,
 "nbformat_minor": 2
}
