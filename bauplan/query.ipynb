{
 "cells": [
  {
   "cell_type": "code",
   "execution_count": 1,
   "metadata": {},
   "outputs": [],
   "source": [
    "# Import the bauplan library\n",
    "import bauplan\n",
    "\n",
    "# Initialize the global Bauplan client\n",
    "# Assumes bauplan is installed and an API key is configured\n",
    "bauplan_client = bauplan.Client(profile='default')"
   ]
  },
  {
   "cell_type": "code",
   "execution_count": 2,
   "metadata": {},
   "outputs": [],
   "source": [
    "# Define namespace and table details\n",
    "BAUPLAN_TABLE_NAMESPACE = 'bauplan'\n",
    "TABLE = 'taxi_fhvhv'\n",
    "FQN = f'{BAUPLAN_TABLE_NAMESPACE}.{TABLE}'\n",
    "BRANCH = 'christianc.branch'"
   ]
  },
  {
   "cell_type": "code",
   "execution_count": 3,
   "metadata": {},
   "outputs": [
    {
     "name": "stdout",
     "output_type": "stream",
     "text": [
      "TableWithMetadata(name='taxi_fhvhv', namespace='bauplan', kind='TABLE', id='dafa7b86-12b3-4d22-9ddf-240f09baad9a', records=899297740, size=23687817214, last_updated_ms=1696590150563, fields=[TableField(id=1, name='hvfhs_license_num', required=False, type='string'), TableField(id=2, name='dispatching_base_num', required=False, type='string'), TableField(id=3, name='originating_base_num', required=False, type='string'), TableField(id=4, name='request_datetime', required=False, type='timestamptz'), TableField(id=5, name='on_scene_datetime', required=False, type='timestamptz'), TableField(id=6, name='pickup_datetime', required=False, type='timestamptz'), TableField(id=7, name='dropoff_datetime', required=False, type='timestamptz'), TableField(id=8, name='PULocationID', required=False, type='long'), TableField(id=9, name='DOLocationID', required=False, type='long'), TableField(id=10, name='trip_miles', required=False, type='double'), TableField(id=11, name='trip_time', required=False, type='long'), TableField(id=12, name='base_passenger_fare', required=False, type='double'), TableField(id=13, name='tolls', required=False, type='double'), TableField(id=14, name='bcf', required=False, type='double'), TableField(id=15, name='sales_tax', required=False, type='double'), TableField(id=16, name='congestion_surcharge', required=False, type='double'), TableField(id=17, name='airport_fee', required=False, type='int'), TableField(id=18, name='tips', required=False, type='double'), TableField(id=19, name='driver_pay', required=False, type='double'), TableField(id=20, name='shared_request_flag', required=False, type='string'), TableField(id=21, name='shared_match_flag', required=False, type='string'), TableField(id=22, name='access_a_ride_flag', required=False, type='string'), TableField(id=23, name='wav_request_flag', required=False, type='string'), TableField(id=24, name='wav_match_flag', required=False, type='string')], snapshots=1, partitions=[], metadata_location='s3a://ba-puse1-all-events-common-local-datalake-8e90e9b/iceberg/taxi_fhvhv_c0d5d1eb-4a8f-46e8-ab03-704bcbd09034/metadata/00053-05249fa2-698b-496b-a542-91eedfa6d954.metadata.json', current_snapshot_id=7697303806864353930, current_schema_id=0, raw=None)\n"
     ]
    }
   ],
   "source": [
    "# Print the schema of the specified table\n",
    "print(bauplan_client.get_table(FQN, BRANCH))"
   ]
  },
  {
   "cell_type": "code",
   "execution_count": 4,
   "metadata": {},
   "outputs": [
    {
     "name": "stdout",
     "output_type": "stream",
     "text": [
      "pyarrow.Table\n",
      "count_star(): int64\n",
      "----\n",
      "count_star(): [[899297740]]\n"
     ]
    }
   ],
   "source": [
    "# Define the SQL query to count rows in the table\n",
    "query = f\"\"\"\n",
    "    SELECT count(*) FROM {FQN}\n",
    "\"\"\"\n",
    "\n",
    "# Execute the query and store the result (returns an Arrow table by default)\n",
    "_table = bauplan_client.query(query)\n",
    "\n",
    "# Print the query results\n",
    "print(_table)"
   ]
  }
 ],
 "metadata": {
  "kernelspec": {
   "display_name": ".venv",
   "language": "python",
   "name": "python3"
  },
  "language_info": {
   "codemirror_mode": {
    "name": "ipython",
    "version": 3
   },
   "file_extension": ".py",
   "mimetype": "text/x-python",
   "name": "python",
   "nbconvert_exporter": "python",
   "pygments_lexer": "ipython3",
   "version": "3.10.16"
  }
 },
 "nbformat": 4,
 "nbformat_minor": 2
}
